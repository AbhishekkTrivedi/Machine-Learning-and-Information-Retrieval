{
  "nbformat": 4,
  "nbformat_minor": 0,
  "metadata": {
    "colab": {
      "name": "8_Regularized logistic regression.ipynb",
      "provenance": [],
      "authorship_tag": "ABX9TyMR7vhOd0vGxF0GPbf1ZVJ6",
      "include_colab_link": true
    },
    "kernelspec": {
      "name": "python3",
      "display_name": "Python 3"
    },
    "language_info": {
      "name": "python"
    }
  },
  "cells": [
    {
      "cell_type": "markdown",
      "metadata": {
        "id": "view-in-github",
        "colab_type": "text"
      },
      "source": [
        "<a href=\"https://colab.research.google.com/github/tecXworld/Machine-Learning-and-Information-Retrieval/blob/main/8_Regularized_logistic_regression.ipynb\" target=\"_parent\"><img src=\"https://colab.research.google.com/assets/colab-badge.svg\" alt=\"Open In Colab\"/></a>"
      ]
    },
    {
      "cell_type": "markdown",
      "metadata": {
        "id": "TxoLCJiCnZjm"
      },
      "source": [
        "**Load the necessary libraries**"
      ]
    },
    {
      "cell_type": "code",
      "metadata": {
        "id": "VGCso82_kkEy"
      },
      "source": [
        "import numpy as np\n",
        "import pandas as pd\n",
        "import matplotlib.pyplot as plt\n",
        "import scipy.optimize as opt"
      ],
      "execution_count": 3,
      "outputs": []
    },
    {
      "cell_type": "code",
      "metadata": {
        "colab": {
          "base_uri": "https://localhost:8080/",
          "height": 0
        },
        "id": "oRvDAbktk2sw",
        "outputId": "961f0bff-76f5-4075-d598-ef767bea1c4d"
      },
      "source": [
        "from google.colab import drive\n",
        "drive.mount('/content/gdrive')"
      ],
      "execution_count": 2,
      "outputs": [
        {
          "output_type": "stream",
          "text": [
            "Mounted at /content/gdrive\n"
          ],
          "name": "stdout"
        }
      ]
    },
    {
      "cell_type": "markdown",
      "metadata": {
        "id": "JNf0E505mCSo"
      },
      "source": [
        "**Read the data**"
      ]
    },
    {
      "cell_type": "code",
      "metadata": {
        "colab": {
          "base_uri": "https://localhost:8080/",
          "height": 204
        },
        "id": "kIv60fiLk-Gy",
        "outputId": "dbd4e3fd-7d39-4759-ff0e-c04a9f3614d0"
      },
      "source": [
        "data = pd.read_csv('/content/gdrive/MyDrive/data_An.csv', header = None)\n",
        "X = data.iloc[:,:-1]\n",
        "y = data.iloc[:,2]\n",
        "data.head()"
      ],
      "execution_count": 4,
      "outputs": [
        {
          "output_type": "execute_result",
          "data": {
            "text/html": [
              "<div>\n",
              "<style scoped>\n",
              "    .dataframe tbody tr th:only-of-type {\n",
              "        vertical-align: middle;\n",
              "    }\n",
              "\n",
              "    .dataframe tbody tr th {\n",
              "        vertical-align: top;\n",
              "    }\n",
              "\n",
              "    .dataframe thead th {\n",
              "        text-align: right;\n",
              "    }\n",
              "</style>\n",
              "<table border=\"1\" class=\"dataframe\">\n",
              "  <thead>\n",
              "    <tr style=\"text-align: right;\">\n",
              "      <th></th>\n",
              "      <th>0</th>\n",
              "      <th>1</th>\n",
              "      <th>2</th>\n",
              "    </tr>\n",
              "  </thead>\n",
              "  <tbody>\n",
              "    <tr>\n",
              "      <th>0</th>\n",
              "      <td>0.051267</td>\n",
              "      <td>0.69956</td>\n",
              "      <td>1</td>\n",
              "    </tr>\n",
              "    <tr>\n",
              "      <th>1</th>\n",
              "      <td>-0.092742</td>\n",
              "      <td>0.68494</td>\n",
              "      <td>1</td>\n",
              "    </tr>\n",
              "    <tr>\n",
              "      <th>2</th>\n",
              "      <td>-0.213710</td>\n",
              "      <td>0.69225</td>\n",
              "      <td>1</td>\n",
              "    </tr>\n",
              "    <tr>\n",
              "      <th>3</th>\n",
              "      <td>-0.375000</td>\n",
              "      <td>0.50219</td>\n",
              "      <td>1</td>\n",
              "    </tr>\n",
              "    <tr>\n",
              "      <th>4</th>\n",
              "      <td>-0.513250</td>\n",
              "      <td>0.46564</td>\n",
              "      <td>1</td>\n",
              "    </tr>\n",
              "  </tbody>\n",
              "</table>\n",
              "</div>"
            ],
            "text/plain": [
              "          0        1  2\n",
              "0  0.051267  0.69956  1\n",
              "1 -0.092742  0.68494  1\n",
              "2 -0.213710  0.69225  1\n",
              "3 -0.375000  0.50219  1\n",
              "4 -0.513250  0.46564  1"
            ]
          },
          "metadata": {
            "tags": []
          },
          "execution_count": 4
        }
      ]
    },
    {
      "cell_type": "markdown",
      "metadata": {
        "id": "OrRZHHY6mL7E"
      },
      "source": [
        "**Visualizing the data**"
      ]
    },
    {
      "cell_type": "code",
      "metadata": {
        "colab": {
          "base_uri": "https://localhost:8080/",
          "height": 279
        },
        "id": "QoKkPS9BlOC-",
        "outputId": "c1a7880d-1562-4968-a429-70bcb1c383f5"
      },
      "source": [
        "mask = y == 1\n",
        "passed = plt.scatter(X[mask][0].values, X[mask][1].values)\n",
        "failed = plt.scatter(X[~mask][0].values, X[~mask][1].values)\n",
        "plt.xlabel('Microchip Test1')\n",
        "plt.ylabel('Microchip Test2')\n",
        "plt.legend((passed, failed), ('Passed', 'Failed'))\n",
        "plt.show()"
      ],
      "execution_count": 5,
      "outputs": [
        {
          "output_type": "display_data",
          "data": {
            "image/png": "[encoded data removed]",
            "text/plain": [
              "<Figure size 432x288 with 1 Axes>"
            ]
          },
          "metadata": {
            "tags": [],
            "needs_background": "light"
          }
        }
      ]
    },
    {
      "cell_type": "markdown",
      "metadata": {
        "id": "0S2OQqKBmQuc"
      },
      "source": [
        "**Feature mapping**"
      ]
    },
    {
      "cell_type": "code",
      "metadata": {
        "colab": {
          "base_uri": "https://localhost:8080/",
          "height": 0
        },
        "id": "-yeHDpsdlQeW",
        "outputId": "c5aec0d0-5b54-4ab9-bcfc-25e821324e7f"
      },
      "source": [
        "def mapFeature(X1, X2):\n",
        "    degree = 6\n",
        "    out = np.ones(X.shape[0])[:,np.newaxis]\n",
        "    for i in range(1, degree+1):\n",
        "        for j in range(i+1):\n",
        "            out = np.hstack((out, np.multiply(np.power(X1, i-j),                                     np.power(X2, j))[:,np.newaxis]))\n",
        "    return out\n",
        "X = mapFeature(X.iloc[:,0], X.iloc[:,1])"
      ],
      "execution_count": 6,
      "outputs": [
        {
          "output_type": "stream",
          "text": [
            "/usr/local/lib/python3.7/dist-packages/ipykernel_launcher.py:6: FutureWarning: Support for multi-dimensional indexing (e.g. `obj[:, None]`) is deprecated and will be removed in a future version.  Convert to a numpy array before indexing instead.\n",
            "  \n"
          ],
          "name": "stderr"
        }
      ]
    },
    {
      "cell_type": "markdown",
      "metadata": {
        "id": "uWR_ZFuimTcS"
      },
      "source": [
        "**Implementation**"
      ]
    },
    {
      "cell_type": "markdown",
      "metadata": {
        "id": "XI8m8sibmeNT"
      },
      "source": [
        "Sigmoid Function"
      ]
    },
    {
      "cell_type": "code",
      "metadata": {
        "id": "S54Pi0EqlV6m"
      },
      "source": [
        "def sigmoid(x):\n",
        "  return 1/(1+np.exp(-x))"
      ],
      "execution_count": 7,
      "outputs": []
    },
    {
      "cell_type": "markdown",
      "metadata": {
        "id": "2cEHNs2xmmxE"
      },
      "source": [
        "Cost Function"
      ]
    },
    {
      "cell_type": "code",
      "metadata": {
        "id": "tnVruMUTlZK5"
      },
      "source": [
        "def lrCostFunction(theta_t, X_t, y_t, lambda_t):\n",
        "    m = len(y_t)\n",
        "    J = (-1/m) * (y_t.T @ np.log(sigmoid(X_t @ theta_t)) + (1 - y_t.T) @ np.log(1 - sigmoid(X_t @ theta_t)))\n",
        "    reg = (lambda_t/(2*m)) * (theta_t[1:].T @ theta_t[1:])\n",
        "    J = J + reg\n",
        "    return J"
      ],
      "execution_count": 8,
      "outputs": []
    },
    {
      "cell_type": "markdown",
      "metadata": {
        "id": "-RtPSWmCms-j"
      },
      "source": [
        "Gradient Function"
      ]
    },
    {
      "cell_type": "code",
      "metadata": {
        "id": "caYefli4lg3c"
      },
      "source": [
        "def lrGradientDescent(theta, X, y, lambda_t):\n",
        "    m = len(y)\n",
        "    grad = np.zeros([m,1])\n",
        "    grad = (1/m) * X.T @ (sigmoid(X @ theta) - y)\n",
        "    grad[1:] = grad[1:] + (lambda_t / m) * theta[1:]\n",
        "    return grad"
      ],
      "execution_count": 9,
      "outputs": []
    },
    {
      "cell_type": "markdown",
      "metadata": {
        "id": "fIjgDnUmm2h5"
      },
      "source": [
        "**Call these functions using the initial parameters**"
      ]
    },
    {
      "cell_type": "code",
      "metadata": {
        "colab": {
          "base_uri": "https://localhost:8080/",
          "height": 0
        },
        "id": "JRISnqu0lk5q",
        "outputId": "6ff54f05-d010-4657-9988-6786151b7f99"
      },
      "source": [
        "(m, n) = X.shape\n",
        "y = y[:, np.newaxis]\n",
        "theta = np.zeros((n,1))\n",
        "lmbda = 1\n",
        "J = lrCostFunction(theta, X, y, lmbda)\n",
        "print(J)"
      ],
      "execution_count": 10,
      "outputs": [
        {
          "output_type": "stream",
          "text": [
            "[[0.69314718]]\n"
          ],
          "name": "stdout"
        },
        {
          "output_type": "stream",
          "text": [
            "/usr/local/lib/python3.7/dist-packages/ipykernel_launcher.py:2: FutureWarning: Support for multi-dimensional indexing (e.g. `obj[:, None]`) is deprecated and will be removed in a future version.  Convert to a numpy array before indexing instead.\n",
            "  \n"
          ],
          "name": "stderr"
        }
      ]
    },
    {
      "cell_type": "markdown",
      "metadata": {
        "id": "uQQQKa97m_K-"
      },
      "source": [
        "**Learning parameters using fmin_tnc**"
      ]
    },
    {
      "cell_type": "code",
      "metadata": {
        "colab": {
          "base_uri": "https://localhost:8080/",
          "height": 0
        },
        "id": "A6VldpsTlpJU",
        "outputId": "4dd90360-3394-4ecb-93aa-38c34239b007"
      },
      "source": [
        "output = opt.fmin_tnc(func = lrCostFunction, x0 = theta.flatten(), fprime = lrGradientDescent, \\\n",
        "                         args = (X, y.flatten(), lmbda))\n",
        "theta = output[0]\n",
        "print(theta)    # theta contains the optimized values"
      ],
      "execution_count": 11,
      "outputs": [
        {
          "output_type": "stream",
          "text": [
            "[ 1.27271026  0.62529965  1.18111687 -2.019874   -0.9174319  -1.43166929\n",
            "  0.12393228 -0.36553118 -0.35725404 -0.17516292 -1.45817009 -0.05098418\n",
            " -0.61558556 -0.27469165 -1.19271299 -0.24217841 -0.20603301 -0.04466178\n",
            " -0.27778949 -0.29539513 -0.45645982 -1.04319154  0.02779373 -0.29244868\n",
            "  0.0155576  -0.32742404 -0.1438915  -0.92467487]\n"
          ],
          "name": "stdout"
        }
      ]
    },
    {
      "cell_type": "markdown",
      "metadata": {
        "id": "kc6oH9UDnG7E"
      },
      "source": [
        "**Accuracy of model**"
      ]
    },
    {
      "cell_type": "code",
      "metadata": {
        "colab": {
          "base_uri": "https://localhost:8080/",
          "height": 0
        },
        "id": "4K2JGC0Iluqa",
        "outputId": "d728534f-2a7a-4b6d-aa4d-c88d0ead8fd0"
      },
      "source": [
        "pred = [sigmoid(np.dot(X, theta)) >= 0.5]\n",
        "np.mean(pred == y.flatten()) * 100"
      ],
      "execution_count": 12,
      "outputs": [
        {
          "output_type": "execute_result",
          "data": {
            "text/plain": [
              "83.05084745762711"
            ]
          },
          "metadata": {
            "tags": []
          },
          "execution_count": 12
        }
      ]
    },
    {
      "cell_type": "markdown",
      "metadata": {
        "id": "rf0hSorpnOZz"
      },
      "source": [
        "**Plotting Decision Boundary**"
      ]
    },
    {
      "cell_type": "code",
      "metadata": {
        "colab": {
          "base_uri": "https://localhost:8080/",
          "height": 283
        },
        "id": "gsC2AmHelycH",
        "outputId": "176f575b-d1f2-414b-d784-a42f66031dbb"
      },
      "source": [
        "u = np.linspace(-1, 1.5, 50)\n",
        "v = np.linspace(-1, 1.5, 50)\n",
        "z = np.zeros((len(u), len(v)))\n",
        "def mapFeatureForPlotting(X1, X2):\n",
        "    degree = 6\n",
        "    out = np.ones(1)\n",
        "    for i in range(1, degree+1):\n",
        "        for j in range(i+1):\n",
        "            out = np.hstack((out, np.multiply(np.power(X1, i-j), np.power(X2, j))))\n",
        "    return out\n",
        "for i in range(len(u)):\n",
        "    for j in range(len(v)):\n",
        "        z[i,j] = np.dot(mapFeatureForPlotting(u[i], v[j]), theta)\n",
        "mask = y.flatten() == 1\n",
        "X = data.iloc[:,:-1]\n",
        "passed = plt.scatter(X[mask][0], X[mask][1])\n",
        "failed = plt.scatter(X[~mask][0], X[~mask][1])\n",
        "plt.contour(u,v,z,0)\n",
        "plt.xlabel('Microchip Test1')\n",
        "plt.ylabel('Microchip Test2')\n",
        "plt.legend((passed, failed), ('Passed', 'Failed'))\n",
        "plt.show()"
      ],
      "execution_count": 13,
      "outputs": [
        {
          "output_type": "display_data",
          "data": {
            "image/png": "[encoded data removed]",
            "text/plain": [
              "<Figure size 432x288 with 1 Axes>"
            ]
          },
          "metadata": {
            "tags": [],
            "needs_background": "light"
          }
        }
      ]
    }
  ]
}