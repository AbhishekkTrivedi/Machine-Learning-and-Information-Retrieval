{
  "nbformat": 4,
  "nbformat_minor": 0,
  "metadata": {
    "colab": {
      "name": "11_Weighted K-NN.ipynb",
      "provenance": [],
      "authorship_tag": "ABX9TyN2e2WLzT292PGhh/mTBlL7"
    },
    "kernelspec": {
      "name": "python3",
      "display_name": "Python 3"
    },
    "language_info": {
      "name": "python"
    }
  },
  "cells": [
    {
      "cell_type": "code",
      "metadata": {
        "colab": {
          "base_uri": "https://localhost:8080/"
        },
        "id": "iXXrJbRMrEE7",
        "outputId": "3099eb97-e694-4496-bc74-d1dc46dc815f"
      },
      "source": [
        "# Python3 program to implement the weighted K nearest neighbour algorithm.\n",
        "\n",
        "import math\n",
        "\n",
        "def weightedkNN(points,p,k=3):\n",
        "\t'''\n",
        "\tThis function finds classification of p using\n",
        "\tweighted k nearest neighbour algorithm. It assumes only two\n",
        "\ttwo classes and returns 0 if p belongs to class 0, else\n",
        "\t1 (belongs to class 1).\n",
        "\n",
        "\tParameters -\n",
        "\t\tpoints : Dictionary of training points having two keys - 0 and 1\n",
        "\t\t\tEach key have a list of training data points belong to that\n",
        "\n",
        "\t\tp : A tuple ,test data point of form (x,y)\n",
        "\n",
        "\t\tk : number of nearest neighbour to consider, default is 3\n",
        "\t'''\n",
        "\n",
        "\tdistance=[]\n",
        "\tfor group in points:\n",
        "\t\tfor feature in points[group]:\n",
        "\n",
        "\t\t\t#calculate the euclidean distance of p from training points\n",
        "\t\t\teuclidean_distance = math.sqrt((feature[0]-p[0])**2 +(feature[1]-p[1])**2)\n",
        "\n",
        "\t\t\t# Add a tuple of form (distance,group) in the distance list\n",
        "\t\t\tdistance.append((euclidean_distance,group))\n",
        "\n",
        "\t# sort the distance list in ascending order\n",
        "\t# and select first k distances\n",
        "\tdistance = sorted(distance)[:k]\n",
        "\n",
        "\tfreq1 = 0 # weighted sum of group 0\n",
        "\tfreq2 = 0 # weighted sum of group 1\n",
        "\n",
        "\tfor d in distance:\n",
        "\t\tif d[1] == 0:\n",
        "\t\t\tfreq1 += (1 / d[0])\n",
        "\t\t\t\n",
        "\t\telif d[1] == 1:\n",
        "\t\t\tfreq2 += (1 /d[0])\n",
        "\t\t\t\n",
        "\n",
        "\treturn 0 if freq1>freq2 else 1\n",
        "\n",
        "# Driver function\n",
        "def main():\n",
        "\n",
        "\t# Dictionary of training points having two keys - 0 and 1\n",
        "\t# key 0 have points belong to class 0\n",
        "\t# key 1 have points belong to class 1\n",
        "\n",
        "\tpoints = {0:[(0, 4),(1, 4.9),(1.6, 5.4),(2.2, 6),(2.8, 7),(3.2, 8),(3.4, 9)],\n",
        "\t\t\t1:[(1.8, 1),(2.2, 3),(3, 4),(4, 4.5),(5, 5),(6, 5.5)]}\n",
        "\n",
        "\t# query point p(x,y)\n",
        "\tp = (2, 4)\n",
        "\n",
        "\t# Number of neighbours\n",
        "\tk = 5\n",
        "\n",
        "\tprint(\"The value classified to query point is: {}\".format(weightedkNN(points,p,k)))\n",
        "\n",
        "if __name__ == '__main__':\n",
        "\tmain()\n"
      ],
      "execution_count": 1,
      "outputs": [
        {
          "output_type": "stream",
          "text": [
            "The value classified to query point is: 1\n"
          ],
          "name": "stdout"
        }
      ]
    }
  ]
}