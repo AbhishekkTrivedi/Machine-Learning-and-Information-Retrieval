{
  "nbformat": 4,
  "nbformat_minor": 0,
  "metadata": {
    "kernelspec": {
      "display_name": "Python 3",
      "language": "python",
      "name": "python3"
    },
    "language_info": {
      "codemirror_mode": {
        "name": "ipython",
        "version": 3
      },
      "file_extension": ".py",
      "mimetype": "text/x-python",
      "name": "python",
      "nbconvert_exporter": "python",
      "pygments_lexer": "ipython3",
      "version": "3.6.3"
    },
    "colab": {
      "name": "5_Sentiment_analysis.ipynb",
      "provenance": []
    }
  },
  "cells": [
    {
      "cell_type": "code",
      "metadata": {
        "id": "s7AUYDIG_RP1"
      },
      "source": [
        "import pandas as pd\n",
        "import numpy as np"
      ],
      "execution_count": null,
      "outputs": []
    },
    {
      "cell_type": "code",
      "metadata": {
        "colab": {
          "base_uri": "https://localhost:8080/"
        },
        "id": "FbdPZQJQGqiA",
        "outputId": "3ee2bc18-6f33-4260-ce3e-20f3d5887d0d"
      },
      "source": [
        "from google.colab import drive\n",
        "drive.mount('/content/drive', force_remount=True)"
      ],
      "execution_count": null,
      "outputs": [
        {
          "output_type": "stream",
          "text": [
            "Mounted at /content/drive\n"
          ],
          "name": "stdout"
        }
      ]
    },
    {
      "cell_type": "code",
      "metadata": {
        "id": "Jmbor6xz_RP5"
      },
      "source": [
        "with open(\"/content/drive/MyDrive/data/imdb_labelled.txt\", \"r\") as text_file:\n",
        "    lines = text_file.read().split(\"\\n\")"
      ],
      "execution_count": null,
      "outputs": []
    },
    {
      "cell_type": "code",
      "metadata": {
        "id": "7hsx2x-p_RP9",
        "colab": {
          "base_uri": "https://localhost:8080/"
        },
        "outputId": "d3a0bc53-05a3-412d-9ce9-0e0c8560dd2d"
      },
      "source": [
        "#newLines\n",
        "newLines = [line.split(\"\\t\") for line in lines if len(line.split(\"\\t\")) == 2 and line.split(\"\\t\")[1] != '']\n",
        "len(newLines) "
      ],
      "execution_count": null,
      "outputs": [
        {
          "output_type": "execute_result",
          "data": {
            "text/plain": [
              "1000"
            ]
          },
          "metadata": {
            "tags": []
          },
          "execution_count": 6
        }
      ]
    },
    {
      "cell_type": "code",
      "metadata": {
        "id": "SXwy5UIT_RP-"
      },
      "source": [
        "#train_documents\n",
        "train_documents = [line[0] for line in newLines] "
      ],
      "execution_count": null,
      "outputs": []
    },
    {
      "cell_type": "code",
      "metadata": {
        "id": "3ZhR0MLJ_RQA"
      },
      "source": [
        "#train_labels\n",
        "train_labels = [int(line[1]) for line in newLines] "
      ],
      "execution_count": null,
      "outputs": []
    },
    {
      "cell_type": "code",
      "metadata": {
        "id": "JJnL07Ks_RQB"
      },
      "source": [
        "from sklearn.feature_extraction.text import CountVectorizer"
      ],
      "execution_count": null,
      "outputs": []
    },
    {
      "cell_type": "code",
      "metadata": {
        "id": "xgWrmo49_RQC"
      },
      "source": [
        "count_vectorizer = CountVectorizer(binary=\"true\")\n",
        "train_documents = count_vectorizer.fit_transform(train_documents)"
      ],
      "execution_count": null,
      "outputs": []
    },
    {
      "cell_type": "code",
      "metadata": {
        "id": "mP8HG1GR_RQD",
        "colab": {
          "base_uri": "https://localhost:8080/"
        },
        "outputId": "fb7a3ef9-c085-4630-a062-3ccfdafc8572"
      },
      "source": [
        "train_documents"
      ],
      "execution_count": null,
      "outputs": [
        {
          "output_type": "execute_result",
          "data": {
            "text/plain": [
              "<1000x3047 sparse matrix of type '<class 'numpy.int64'>'\n",
              "\twith 12666 stored elements in Compressed Sparse Row format>"
            ]
          },
          "metadata": {
            "tags": []
          },
          "execution_count": 14
        }
      ]
    },
    {
      "cell_type": "markdown",
      "metadata": {
        "id": "-k_sThZI_RQF"
      },
      "source": [
        "Import Navie Bayes Algorithm"
      ]
    },
    {
      "cell_type": "code",
      "metadata": {
        "id": "vAisx5fz_RQF"
      },
      "source": [
        "from sklearn.naive_bayes import BernoulliNB"
      ],
      "execution_count": null,
      "outputs": []
    },
    {
      "cell_type": "code",
      "metadata": {
        "id": "pHrDib0J_RQG"
      },
      "source": [
        "classifier = BernoulliNB().fit(train_documents, train_labels)"
      ],
      "execution_count": null,
      "outputs": []
    },
    {
      "cell_type": "markdown",
      "metadata": {
        "id": "3SowR5fC_RQH"
      },
      "source": [
        "Predict if a sentence is +ve or -ve"
      ]
    },
    {
      "cell_type": "code",
      "metadata": {
        "id": "r6MIq75w_RQH",
        "colab": {
          "base_uri": "https://localhost:8080/"
        },
        "outputId": "79c13483-62b1-4e52-8f5d-1711f09f33d6"
      },
      "source": [
        "#Example 1\n",
        "classifier.predict(count_vectorizer.transform([\"great movie\"]))"
      ],
      "execution_count": null,
      "outputs": [
        {
          "output_type": "execute_result",
          "data": {
            "text/plain": [
              "array([1])"
            ]
          },
          "metadata": {
            "tags": []
          },
          "execution_count": 17
        }
      ]
    },
    {
      "cell_type": "code",
      "metadata": {
        "id": "zt6XWmxe_RQI",
        "colab": {
          "base_uri": "https://localhost:8080/"
        },
        "outputId": "7816ac45-5b1f-4fc6-a38a-38f28c7e0f05"
      },
      "source": [
        "#Example 2\n",
        "classifier.predict(count_vectorizer.transform(['very bad worst movie']))"
      ],
      "execution_count": null,
      "outputs": [
        {
          "output_type": "execute_result",
          "data": {
            "text/plain": [
              "array([0])"
            ]
          },
          "metadata": {
            "tags": []
          },
          "execution_count": 18
        }
      ]
    },
    {
      "cell_type": "code",
      "metadata": {
        "id": "u08sSrDJ_RQI"
      },
      "source": [
        "def predictionOutput(sentence):\n",
        "    prediction = classifier.predict(count_vectorizer.transform([sentence]))\n",
        "    if(prediction[0] == 1):\n",
        "        print(\"This is a Positive Sentiment Sentence\")\n",
        "    elif (prediction[0] == 0):\n",
        "        print(\"This is a Negative Sentiment Sentence\")"
      ],
      "execution_count": null,
      "outputs": []
    },
    {
      "cell_type": "code",
      "metadata": {
        "id": "OdQ7Df5B_RQL",
        "colab": {
          "base_uri": "https://localhost:8080/"
        },
        "outputId": "46edfcea-8597-49cc-b539-01357cb3471f"
      },
      "source": [
        "predictionOutput(\"I will rate it as 10\")"
      ],
      "execution_count": null,
      "outputs": [
        {
          "output_type": "stream",
          "text": [
            "This is a Positive Sentiment Sentence\n"
          ],
          "name": "stdout"
        }
      ]
    },
    {
      "cell_type": "code",
      "metadata": {
        "id": "B9Y4euRP_RQP",
        "colab": {
          "base_uri": "https://localhost:8080/"
        },
        "outputId": "b6d84d99-c5f6-4b66-ea51-bd5a075ababb"
      },
      "source": [
        "predictionOutput(\"don't waste your time on this\")"
      ],
      "execution_count": null,
      "outputs": [
        {
          "output_type": "stream",
          "text": [
            "This is a Negative Sentiment Sentence\n"
          ],
          "name": "stdout"
        }
      ]
    },
    {
      "cell_type": "code",
      "metadata": {
        "colab": {
          "base_uri": "https://localhost:8080/"
        },
        "id": "p42IQc9GUcVu",
        "outputId": "230b051b-2009-42fd-bf9b-3002a1a45278"
      },
      "source": [
        "predictionOutput(\"movie was worse, filled with plot holes and continuity errors\")"
      ],
      "execution_count": null,
      "outputs": [
        {
          "output_type": "stream",
          "text": [
            "This is a Negative Sentiment Sentence\n"
          ],
          "name": "stdout"
        }
      ]
    },
    {
      "cell_type": "code",
      "metadata": {
        "colab": {
          "base_uri": "https://localhost:8080/"
        },
        "id": "FEMgwNU4UmK1",
        "outputId": "b90c49dc-351a-40df-cf19-21e386867570"
      },
      "source": [
        "predictionOutput(\"love to watch it over and over again\")"
      ],
      "execution_count": null,
      "outputs": [
        {
          "output_type": "stream",
          "text": [
            "This is a Positive Sentiment Sentence\n"
          ],
          "name": "stdout"
        }
      ]
    }
  ]
}